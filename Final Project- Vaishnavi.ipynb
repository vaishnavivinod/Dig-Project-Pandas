{
 "cells": [
  {
   "attachments": {},
   "cell_type": "markdown",
   "metadata": {},
   "source": [
    "# Final Project\n",
    "\n",
    "We have almost reached the end of our time together (heartbreaking, I know). This final project is a capstone of sorts. We will answer a number of question from the Dig case study using everything we've learned so far. We will consider a number of questions that will bring together many of the topics we discussed I warn you, that some of these topics will be complex. That said, so are the real problems businesses face every day when working with data, and this section will give you practice tackling these kinds of problems."
   ]
  },
  {
   "attachments": {},
   "cell_type": "markdown",
   "metadata": {},
   "source": [
    "## "
   ]
  },
  {
   "cell_type": "code",
   "execution_count": 2,
   "metadata": {},
   "outputs": [],
   "source": [
    "# import pandas and matplotlib\n",
    "\n",
    "import pandas as pd\n",
    "import matplotlib.pyplot as plt\n",
    "from scipy import stats\n",
    "\n",
    "df_summarized_orders = pd.read_csv('Summarized orders new.csv')\n",
    "df_students = pd.read_csv('Students.csv')\n",
    "df_orders = pd.read_csv('Simplified Orders.csv')\n",
    "df_items = pd.read_csv('Items.csv')\n",
    "df_restaurants = pd.read_csv('Restaurants.csv')\n",
    "df_dig = pd.read_csv('dig.csv')\n",
    "\n",
    "\n"
   ]
  },
  {
   "attachments": {},
   "cell_type": "markdown",
   "metadata": {},
   "source": [
    "## 1. New Product Analytics\n",
    "\n",
    "As you read in the story of Dig, one of the company's greatest sources of price is that each restaurant prepares everything on site. Indeed, every one of its employees are trained to prepare food in it restaurants, in line with this ethos. There is, however, one exception - bottled and canned drinks. The infrastructure required to produce these items is usually prohibitive. Futhermore, a number of companies that produce these products share Dig's ethos for responsible courcing and high-quality ingredients. Therefore, it is perhaps unsurprising that, as you read, Dig does not produce its own bottled and canned drinks and instead stocks a number of products produced by other companies.\n",
    "\n",
    "In this section, we consider a hypothetical furture in which Dig does decide to launch a new line of drinks of its own. When a company launches a new product, it often decides to first launch at a single location and then expand chain-wide. Your task for this section is to help Dig to decide at which restaurant to launch this new product line, and when in the year to do it.\n",
    "\n",
    "Notice a key difference between this question, and those we have done before. In previous examples, the question were phrased mostly in the context of the data, and it was clear how to use the data to answer them - the only question was what pandas code we would need to execute each step. This question is far more ambiguous, and we first need to figure out how to phrase this in the context of data.\n",
    "\n",
    "Before you begin, spend a few minutes thinking about this. What questions might you want to ask of the data? How might you want to get the answers? Here are some questions to get you started, but by all means, come up with more:\n",
    "\n",
    "* we'd like to find places where drinks are popular - launching the line in a restaurant where no one buys drinks seems counterproductive. Our first question is whether some restaurants customers tend to order more drinks than others\n",
    "* let's next turn our attenetion to time. How might we decide when in the year to launch it?\n",
    "* now that we have the restaurant where drinks are popular, and the time of year drinks are popular. Does that seasonalilty hold up if we look at just the top restaurant?"
   ]
  },
  {
   "cell_type": "code",
   "execution_count": 3,
   "metadata": {},
   "outputs": [
    {
     "name": "stdout",
     "output_type": "stream",
     "text": [
      "ID of Restaurant with the highest average number of drinks ordered: R10002 and the average high is: 0.1261279264599634\n",
      "Best month to launch the new product line: 8\n",
      "Best month to launch the new product line at the top restaurant: 8\n"
     ]
    }
   ],
   "source": [
    "\n",
    "# Merge dataframes to get all the required information\n",
    "df_merged = df_dig.merge(df_restaurants, on='RESTAURANT_ID')\n",
    "\n",
    "# Group by restaurant and calculate the average number of drinks ordered\n",
    "drink_popularity = df_merged.groupby('RESTAURANT_ID')['DRINKS'].mean()\n",
    "\n",
    "# Find the restaurant with the highest average number of drinks ordered\n",
    "top_restaurant = drink_popularity.idxmax()\n",
    "\n",
    "print(\"ID of Restaurant with the highest average number of drinks ordered:\", top_restaurant, \"and the average high is:\",drink_popularity[top_restaurant])\n",
    "\n",
    "# Convert the 'DATETIME' column to a datetime data type\n",
    "df_merged['DATETIME'] = pd.to_datetime(df_merged['DATETIME'])\n",
    "\n",
    "# Extract the month from the 'DATETIME' column\n",
    "df_merged['month'] = df_merged['DATETIME'].dt.month\n",
    "\n",
    "# Group by month and calculate the average number of drinks ordered\n",
    "monthly_drink_orders = df_merged.groupby('month')['DRINKS'].mean()\n",
    "\n",
    "# Find the month with the highest average number of drinks ordered\n",
    "best_month_to_launch = monthly_drink_orders.idxmax()\n",
    "\n",
    "print(\"Best month to launch the new product line:\", best_month_to_launch)\n",
    "\n",
    "# Filter data for the top restaurant\n",
    "df_top_restaurant = df_merged[df_merged['RESTAURANT_ID'] == top_restaurant]\n",
    "\n",
    "# Group by month and calculate the average number of drinks ordered for the top restaurant\n",
    "monthly_drink_orders_top_restaurant = df_top_restaurant.groupby('month')['DRINKS'].mean()\n",
    "\n",
    "# Find the month with the highest average number of drinks ordered for the top restaurant\n",
    "best_month_top_restaurant = monthly_drink_orders_top_restaurant.idxmax()\n",
    "\n",
    "print(\"Best month to launch the new product line at the top restaurant:\", best_month_top_restaurant)"
   ]
  },
  {
   "attachments": {},
   "cell_type": "markdown",
   "metadata": {},
   "source": [
    "## 2. The Next Frontier"
   ]
  },
  {
   "attachments": {},
   "cell_type": "markdown",
   "metadata": {},
   "source": [
    "Dig is a young company entering a phase of exponential growth. One of the more exciting aspects of this growth is the company's expansion beyond its central restaurant offering to delivery, pick-up orders, and catering. These new lines of business were immediately popular when Dig launched them, with as many as 30 percent of orders coming from deliveries at some stores. However, this sucess came with challenges. Dig initally treated delivery as a 'bolt-on' service to its primary restaurant offering, allowing customers to order using the in-store menu, and contracting with third party services for delivery. This mirrored the approach taken by many of Dig's competitors, but it quickly became apparent to Dig's leadership that this led to a substandard customer experience. Among other problems, Dig's extensive menu meant that there were approximately 1,500 different possible Dig bowls, some of which were far better suited to delivery than others\n",
    "\n",
    "Dig realized an opportunity when it saw one, and it decided to heavily focus on ways to puch the boundaries of how customers experienced Dig. In particular, it decided to create a brand-new, reimagined delivery service, with an entirely new menu and platform, built and optimized specifically for delivery. This would make it a trailblazer in the industry and put the company in a prime position to capture this increasingly large segment of the market.\n",
    "\n",
    "As you can imagine, creating a brand-new delivery service is no small endeavor. There are some benefits to being the first mover, but it also means there's no rulebook to follow. In this section, your task is to design Dig's delivery-specific menu. Again, take a few minutes and think of the kinds of questions you might need to answer this problem. Here are four question to get you started:\n",
    "\n",
    "1. What's the most popular main?\n",
    "2. What's the most popular base?\n",
    "3. What main is most popular with which base?\n",
    "4. How does this all relate to sides?"
   ]
  },
  {
   "cell_type": "code",
   "execution_count": 4,
   "metadata": {},
   "outputs": [
    {
     "name": "stdout",
     "output_type": "stream",
     "text": [
      "Most popular Main:  Charred Chicken Marketbowl\n",
      "Most popular Base:  Farm Greens with Mint\n",
      "\n",
      "Most popular main with each base:\n",
      "                       BASE_NAME  \\\n",
      "0            Classic Brown Rice   \n",
      "1         Farm Greens with Mint   \n",
      "2  Farro with Summer Vegetables   \n",
      "\n",
      "                                   Most_Popular_Main  \n",
      "0   (Classic Brown Rice, Charred Chicken Marketbowl)  \n",
      "1  (Farm Greens with Mint, Herb Roasted Chicken M...  \n",
      "2  (Farro with Summer Vegetables, Herb Roasted Ch...  \n",
      "\n",
      "Popular side combinations: SIDE_1_NAME          SIDE_2_NAME                         \n",
      "Blistered Shishitos  Blistered Shishitos                      18762\n",
      "                     Cashew Kale Caesar                       17781\n",
      "                     Cauliflower with Garlic and Parmesan     13565\n",
      "                     Charred Broccoli with Lemon              19653\n",
      "                     Green Goddess Beans with Sesame          13368\n",
      "                                                              ...  \n",
      "Snap Peas            Charred Broccoli with Lemon              44042\n",
      "                     Green Goddess Beans with Sesame          28649\n",
      "                     Jasper Hill Mac & Cheese                 38052\n",
      "                     Roasted Sweet Potatoes                   96661\n",
      "                     Snap Peas                               148266\n",
      "Name: ORDER_ID, Length: 64, dtype: int64\n",
      "\n",
      "Most popular side combination: ('Snap Peas', 'Snap Peas')\n"
     ]
    }
   ],
   "source": [
    "#Popular Main\n",
    "popular_main = df_dig.groupby('MAIN_NAME')['ORDER_ID'].count().idxmax()\n",
    "print(\"Most popular Main: \", popular_main)\n",
    "\n",
    "#Popular Base\n",
    "popular_base = df_dig.groupby('BASE_NAME')['ORDER_ID'].count().idxmax()\n",
    "print(\"Most popular Base: \", popular_base)\n",
    "\n",
    "#Most Popular Main with Base \n",
    "\n",
    "#Group by BASE_NAME and MAIN_NAME and calculating total number of orders\n",
    "popular_main_with_base = df_dig.groupby(['BASE_NAME', 'MAIN_NAME'])['ORDER_ID'].count()\n",
    "\n",
    "# Find the most popular main for each base\n",
    "most_popular_main_with_base = popular_main_with_base.groupby('BASE_NAME').idxmax().reset_index()\n",
    "most_popular_main_with_base.columns = ['BASE_NAME', 'Most_Popular_Main']\n",
    "\n",
    "print(\"\\nMost popular main with each base:\\n\", most_popular_main_with_base)\n",
    "\n",
    "# Relation to sides\n",
    "# Group by SIDE_1_NAME and SIDE_2_NAME and then calculate the total number of orders for each side combination\n",
    "popular_sides = df_dig.groupby(['SIDE_1_NAME', 'SIDE_2_NAME'])['ORDER_ID'].count()\n",
    "print(\"\\nPopular side combinations:\", popular_sides)\n",
    "\n",
    "# Finding most popular individual side \n",
    "most_popular_side = popular_sides.idxmax()\n",
    "print(\"\\nMost popular side combination:\", most_popular_side)"
   ]
  },
  {
   "attachments": {},
   "cell_type": "markdown",
   "metadata": {},
   "source": [
    "## 3. Finding Fertile Ground For a New Delivery Service\n",
    "\n",
    "In this section, we will consider this new delivery service from a different angle. Dig's delivery service is popular at some of its restaurants, but in extending this service, we might want to know the restaurants at which deliveries are most popular. This might help us decide which restaurant to use as a pilot for the new program. What location should Dig pilot this new delivery service and why? Some questions to ask yourself:\n"
   ]
  },
  {
   "cell_type": "code",
   "execution_count": 5,
   "metadata": {},
   "outputs": [
    {
     "name": "stdout",
     "output_type": "stream",
     "text": [
      "Location for the pilot delivery service: Upper West Side\n",
      "Percentage of delivery orders at the pilot location: 18.968583073125973\n",
      "\n",
      "The restaurant Upper West Side has the highest percentage of delivery orders. \n",
      "This location would be a suitable pilot for the new delivery service, as it already demonstrates a high demand for deliveries.\n"
     ]
    }
   ],
   "source": [
    "# Group by 'RESTAURANT_ID' and calculate the total number of orders and delivery orders for each restaurant\n",
    "total_orders = df_merged.groupby('RESTAURANT_ID')['ORDER_ID'].count() #df_merged has been done in question 1\n",
    "delivery_orders = df_merged[df_merged['TYPE'] == 'DELIVERY'].groupby('RESTAURANT_ID')['ORDER_ID'].count()\n",
    "\n",
    "# Calculate the percentage of delivery orders for each restaurant\n",
    "delivery_percentage = (delivery_orders / total_orders) * 100\n",
    "\n",
    "# Find the restaurant with the highest percentage of delivery orders (pilot location)\n",
    "pilot_location = delivery_percentage.idxmax()\n",
    "\n",
    "# Get the name of the restaurant using the 'NAME' column from the 'df_restaurants' DataFrame\n",
    "pilot_restaurant_name = df_restaurants[df_restaurants['RESTAURANT_ID'] == pilot_location]['NAME'].values[0]\n",
    "\n",
    "print(\"Location for the pilot delivery service:\", pilot_restaurant_name)\n",
    "print(\"Percentage of delivery orders at the pilot location:\", delivery_percentage.max())\n",
    "\n",
    "print(f\"\\nThe restaurant {pilot_restaurant_name} has the highest percentage of delivery orders. \\nThis location would be a suitable pilot for the new delivery service, as it already demonstrates a high demand for deliveries.\")"
   ]
  },
  {
   "attachments": {},
   "cell_type": "markdown",
   "metadata": {},
   "source": [
    "## 4. Understanding Your Customers: Are Salad eaters Healthier?\n",
    "\n",
    "There are three possible bases in every Dig bowl: salad, farro, and rice. We ight assume that customers who choose a salad as a base are looking for healthier, lower-calorie options in their diet. But is this true, or do people just happen to like lettuce? This question is relevant because it allows us to know our cusomters better and, to design a delivery menu that serves them better. If we do indeed find that salad eaters gravitate toward healtheir options, we would want to include a number of salad-based bowls with healthy sides and mains on our menu. Conversely, if we find little relationship between these options, we might instead focus on designing bowls that we think will be tastiest and travel best.\n",
    "\n",
    "How might we define a 'health' customer? Again, this quetion is ambiguous and no column defines this. There are two other columns that might act as proxies for this. First, how many cookies are in each order and second, the sides that were ordered in the bowl (mac and cheese vs. cauliflower with parmesan). Let's rephrase our question as follows: 1/ do people who order bowls with salad bases tend to order fewer cookies and 2/ is the mix of sides different for thos who order bowls with salad bases?\n",
    "\n",
    "**Bonus question** how do we know that the differnece in part 1. is statistically significant and not a random coindence? If you are familiar with introductory statitics, we can measure this using a t-test, where an output of the p-value being close to 0.0 is statisically significant and a large p-value being random. To do this, you will need to import scipy and use the stats.ttest_ind() function. Remember, to look at the documentation (or Google) to see how to use this function."
   ]
  },
  {
   "cell_type": "code",
   "execution_count": 6,
   "metadata": {},
   "outputs": [
    {
     "name": "stdout",
     "output_type": "stream",
     "text": [
      "Average number of cookies for salad-based bowls: 0.08817561054247083\n",
      "Mix of sides for salad-based bowls:\n",
      "Roasted Sweet Potatoes                  453266\n",
      "Snap Peas                               447875\n",
      "Charred Broccoli with Lemon             236413\n",
      "Cashew Kale Caesar                      217333\n",
      "Blistered Shishitos                     193227\n",
      "Green Goddess Beans with Sesame         175774\n",
      "Cauliflower with Garlic and Parmesan     62485\n",
      "Jasper Hill Mac & Cheese                 49781\n",
      "dtype: int64\n"
     ]
    },
    {
     "name": "stderr",
     "output_type": "stream",
     "text": [
      "/var/folders/ff/84hd1fzx40l4z1__mgyg4fzc0000gn/T/ipykernel_1028/772464019.py:10: FutureWarning: The series.append method is deprecated and will be removed from pandas in a future version. Use pandas.concat instead.\n",
      "  side_counts_salad_bases = df_salad_bases['SIDE_1_NAME'].append(df_salad_bases['SIDE_2_NAME']).value_counts()\n"
     ]
    },
    {
     "name": "stdout",
     "output_type": "stream",
     "text": [
      "T-test p-value: 0.0\n"
     ]
    }
   ],
   "source": [
    "# 1: Filter rows with salad bases\n",
    "df_salad_bases = df_dig[df_dig['BASE_NAME'] == 'Farm Greens with Mint']\n",
    "\n",
    "# 2: Analyze cookie orders for salad-based bowls\n",
    "average_cookies_salad_bases = df_salad_bases['COOKIES'].mean()\n",
    "print(\"Average number of cookies for salad-based bowls:\", average_cookies_salad_bases)\n",
    "\n",
    "# 3: Analyze mix of sides for salad-based bowls\n",
    "# Count the number of occurrences of each side in the dataset\n",
    "side_counts_salad_bases = df_salad_bases['SIDE_1_NAME'].append(df_salad_bases['SIDE_2_NAME']).value_counts()\n",
    "\n",
    "print(\"Mix of sides for salad-based bowls:\")\n",
    "print(side_counts_salad_bases)\n",
    "\n",
    "# Bonus question\n",
    "df_non_salad_bases = df_dig[df_dig['BASE_NAME'] != 'Farm Greens with Mint']\n",
    "t_stat, p_value = stats.ttest_ind(df_salad_bases['COOKIES'], df_non_salad_bases['COOKIES'], equal_var=False)\n",
    "\n",
    "print(\"T-test p-value:\", p_value)"
   ]
  },
  {
   "attachments": {},
   "cell_type": "markdown",
   "metadata": {},
   "source": [
    "## 5. Orders and Weather\n",
    "\n",
    "For our final analysis, we look at the relationship between various order patterns and the weather. This relationship could touch on many parts of Dig' operations, from food ordering, to staffing levels, to promotional efforts, to the company's new delivery service. For this analysis, we will look at two specific questions (but feel free to add in anything else you think is useful).\n",
    "\n",
    "1. We migh expect the proportion of delivery orders to depend heavily on the weather. In particular, we might expect deliveries to be higher during the winter. Is this true? This will affect how we might plan staffing for those periods.\n",
    "2. Does the temperature outside affect the number of drinks customers order? This might affect our choice of when to launch the new drink line we discussed, or perhaps help staff members decide when to displat promotional posters for drinks in stores."
   ]
  },
  {
   "cell_type": "code",
   "execution_count": 34,
   "metadata": {},
   "outputs": [
    {
     "data": {
      "image/png": "[encoded data removed]",
      "text/plain": [
       "<Figure size 1000x1000 with 2 Axes>"
      ]
     },
     "metadata": {},
     "output_type": "display_data"
    }
   ],
   "source": [
    "# Convert 'DATETIME' column to datetime data type\n",
    "df_dig['DATETIME'] = pd.to_datetime(df_dig['DATETIME'])\n",
    "\n",
    "# Define a function to get the season based on the month\n",
    "def get_season(month):\n",
    "    if month in [12, 1, 2]: # December, January, February\n",
    "        return 'Winter'\n",
    "    elif month in [3, 4, 5]: # March, April, May\n",
    "        return 'Spring'\n",
    "    elif month in [6, 7, 8]: # June, July, August\n",
    "        return 'Summer'\n",
    "    else:\n",
    "        return 'Fall' # September, October, November\n",
    "\n",
    "# Create a new 'SEASON' column\n",
    "df_dig['SEASON'] = df_dig['DATETIME'].dt.month.apply(get_season)\n",
    "\n",
    "# Analyze the proportion of delivery orders for each season\n",
    "delivery_orders_by_season = df_dig[df_dig['TYPE'] == 'DELIVERY']['SEASON'].value_counts()\n",
    "total_orders_by_season = df_dig['SEASON'].value_counts()\n",
    "proportion_delivery_by_season = delivery_orders_by_season / total_orders_by_season\n",
    "\n",
    "# Analyze the average number of drinks ordered for each season\n",
    "average_drinks_by_season = df_dig.groupby('SEASON')['DRINKS'].mean()\n",
    "\n",
    "# Plot the results\n",
    "plt.figure(figsize=(10, 10))\n",
    "\n",
    "plt.subplot(2, 1, 1)\n",
    "proportion_delivery_by_season.plot(kind='bar', color='lightblue', edgecolor='blue')\n",
    "plt.title('Proportion of Delivery Orders by Season')\n",
    "plt.xlabel('Season')\n",
    "plt.ylabel('Proportion')\n",
    "\n",
    "plt.subplot(2, 1, 2)\n",
    "average_drinks_by_season.plot(kind='bar', color='lightgreen', edgecolor='green')\n",
    "plt.title('Average Number of Drinks Ordered by Season')\n",
    "plt.xlabel('Season')\n",
    "plt.ylabel('Average Drinks Ordered')\n",
    "\n",
    "plt.tight_layout() #ensures that the subplots are properly spaced and do not overlap\n",
    "plt.show()"
   ]
  },
  {
   "attachments": {},
   "cell_type": "markdown",
   "metadata": {},
   "source": []
  },
  {
   "cell_type": "markdown",
   "metadata": {},
   "source": [
    "1. As we can see from the above plots, the deliveries are higher during the summer season and lowest during spring. Hence, the assumption that winters have the highest number of deliveries is not right. \n",
    "\n",
    "2. Yes, the temperature outside affects the number of drinks customers order. We can see that summer months have highest number of drinks ordered and winters have the lowest. Hence, it is recommended to launch the new drink line in summer months when the temperature is high and the staff members can display promotional posters for drinks in stores during this time."
   ]
  }
 ],
 "metadata": {
  "kernelspec": {
   "display_name": "base",
   "language": "python",
   "name": "python3"
  },
  "language_info": {
   "codemirror_mode": {
    "name": "ipython",
    "version": 3
   },
   "file_extension": ".py",
   "mimetype": "text/x-python",
   "name": "python",
   "nbconvert_exporter": "python",
   "pygments_lexer": "ipython3",
   "version": "3.10.9"
  },
  "orig_nbformat": 4
 },
 "nbformat": 4,
 "nbformat_minor": 2
}
